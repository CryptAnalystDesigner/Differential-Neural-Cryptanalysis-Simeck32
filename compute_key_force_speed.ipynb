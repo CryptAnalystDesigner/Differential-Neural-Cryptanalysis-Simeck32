{
 "cells": [
  {
   "cell_type": "code",
   "execution_count": 3,
   "metadata": {},
   "outputs": [
    {
     "name": "stdout",
     "output_type": "stream",
     "text": [
      "ecrypted speed : 2^(26.693504) /sec\n"
     ]
    }
   ],
   "source": [
    "import time\n",
    "import simeck as sk\n",
    "from math import log2\n",
    "import numpy as np\n",
    "from os import urandom\n",
    "def compute_encrypted_time(n,nr):\n",
    "    keys = np.frombuffer(urandom(8*n),dtype=np.uint16).reshape(4,-1)\n",
    "    plain0l = np.frombuffer(urandom(2*n),dtype=np.uint16);\n",
    "    plain0r = np.frombuffer(urandom(2*n),dtype=np.uint16);\n",
    "    ks = sk.expand_key_simeck(keys, nr)\n",
    "    ctdata0l, ctdata0r = sk.encrypt_simeck((plain0l, plain0r), ks)\n",
    "    start = time.time()\n",
    "    dec_ctdata0l, dec_ctdata0r= sk.dec_one_round_simeck((ctdata0l, ctdata0r), ks[-1])\n",
    "    end = time.time()\n",
    "    running_time = end-start\n",
    "    speed = log2(n/running_time)\n",
    "    print('ecrypted speed : 2^(%.6f) /sec' %speed)\n",
    "compute_encrypted_time(n=2**30, nr=32)"
   ]
  },
  {
   "cell_type": "code",
   "execution_count": 3,
   "metadata": {},
   "outputs": [
    {
     "name": "stdout",
     "output_type": "stream",
     "text": [
      "ecrypted speed : 2^(21.761894) /sec\n"
     ]
    }
   ],
   "source": [
    "import time\n",
    "import simeck as sk\n",
    "from math import log2\n",
    "import numpy as np\n",
    "from os import urandom\n",
    "def compute_encrypted_time(n,nr):\n",
    "    keys = np.frombuffer(urandom(8*n),dtype=np.uint16).reshape(4,-1)\n",
    "    plain0l = np.frombuffer(urandom(2*n),dtype=np.uint16);\n",
    "    plain0r = np.frombuffer(urandom(2*n),dtype=np.uint16);\n",
    "    ks = sk.expand_key_simeck(keys, nr)\n",
    "    start = time.time()\n",
    "    ctdata0l, ctdata0r = sk.encrypt_simeck((plain0l, plain0r), ks)\n",
    "    end = time.time()\n",
    "    running_time = end-start\n",
    "    speed = log2(n/running_time)\n",
    "    print('ecrypted speed : 2^(%.6f) /sec' %speed)\n",
    "compute_encrypted_time(n=2**30, nr=32)"
   ]
  }
 ],
 "metadata": {
  "kernelspec": {
   "display_name": "Python 3.7.15 ('dp')",
   "language": "python",
   "name": "python3"
  },
  "language_info": {
   "codemirror_mode": {
    "name": "ipython",
    "version": 3
   },
   "file_extension": ".py",
   "mimetype": "text/x-python",
   "name": "python",
   "nbconvert_exporter": "python",
   "pygments_lexer": "ipython3",
   "version": "3.7.15"
  },
  "orig_nbformat": 4,
  "vscode": {
   "interpreter": {
    "hash": "dcbce5a6faa775d11ac8553fbab57225c98434a4809b88522f2b6404195a366b"
   }
  }
 },
 "nbformat": 4,
 "nbformat_minor": 2
}
