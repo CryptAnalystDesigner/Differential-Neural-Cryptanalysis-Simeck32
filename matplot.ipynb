{
 "cells": [
  {
   "cell_type": "code",
   "execution_count": 32,
   "metadata": {},
   "outputs": [
    {
     "data": {
      "text/plain": [
       "9.825345896405059"
      ]
     },
     "execution_count": 32,
     "metadata": {},
     "output_type": "execute_result"
    }
   ],
   "source": [
    "from math import log2,log\n",
    "log2(1/((2*(0.5166-0.5))**2))"
   ]
  },
  {
   "cell_type": "code",
   "execution_count": 40,
   "metadata": {},
   "outputs": [
    {
     "data": {
      "text/plain": [
       "4.727423362113446"
      ]
     },
     "execution_count": 40,
     "metadata": {},
     "output_type": "execute_result"
    }
   ],
   "source": [
    "from math import log2\n",
    "z= 0.5002\n",
    "neutral_bits = 2**12\n",
    "log2(z/(1-z))*neutral_bits"
   ]
  },
  {
   "cell_type": "code",
   "execution_count": 39,
   "metadata": {},
   "outputs": [
    {
     "data": {
      "text/plain": [
       "0.5008461261217043"
      ]
     },
     "execution_count": 39,
     "metadata": {},
     "output_type": "execute_result"
    }
   ],
   "source": [
    "vtmp=20\n",
    "neutral_bits = 2**12\n",
    "x=2**(vtmp/neutral_bits)\n",
    "x/(1+x) "
   ]
  },
  {
   "cell_type": "code",
   "execution_count": 7,
   "metadata": {},
   "outputs": [
    {
     "data": {
      "text/plain": [
       "38.18967820196472"
      ]
     },
     "execution_count": 7,
     "metadata": {},
     "output_type": "execute_result"
    }
   ],
   "source": [
    "from math import log2,log\n",
    "rt = 2889.6483095288277\n",
    "log2(2**(26.693)*rt*log(0.01,(1-0.9916666666666667)))\n",
    "# log2(2**(26.693)*rt)"
   ]
  },
  {
   "cell_type": "code",
   "execution_count": 6,
   "metadata": {},
   "outputs": [
    {
     "data": {
      "text/plain": [
       "22.788555214928866"
      ]
     },
     "execution_count": 6,
     "metadata": {},
     "output_type": "execute_result"
    }
   ],
   "source": [
    "from math import log2,log\n",
    "log2((2**(22.43379405875492)+\n",
    "2**(22.58025856749979)+\n",
    "2**(22.782834443094607)+\n",
    "2**(23.01625115501275)+\n",
    "2**(23.033973543441057))/5)"
   ]
  },
  {
   "cell_type": "code",
   "execution_count": 5,
   "metadata": {},
   "outputs": [
    {
     "data": {
      "text/plain": [
       "2889.6483095288277"
      ]
     },
     "execution_count": 5,
     "metadata": {},
     "output_type": "execute_result"
    }
   ],
   "source": [
    "(2325.762989294529+\n",
    "2570.8925279259684+\n",
    "2734.768051171303+\n",
    "3365.0139881253244+\n",
    "3451.8039911270143)/5"
   ]
  },
  {
   "cell_type": "code",
   "execution_count": 42,
   "metadata": {},
   "outputs": [
    {
     "name": "stdout",
     "output_type": "stream",
     "text": [
      "[57591 19132 17286 25467 11888  3583 35534 52814 48569 12296 60108 61398\n",
      " 49816 13585 49428 11297 15512 22928 15192 18500 12952 27185 11383 46826\n",
      " 57254 19746 20742 53184 37063 44239  4823 53008]\n"
     ]
    }
   ],
   "source": [
    "import numpy as np\n",
    "num_cand=32\n",
    "keys = np.random.choice(2**(16), num_cand, replace=False) & 0xcfff\n",
    "r = np.random.randint(0, 4, num_cand, dtype=np.uint16)\n",
    "r = r << 12\n",
    "keys = keys ^ r\n",
    "print(keys)"
   ]
  }
 ],
 "metadata": {
  "kernelspec": {
   "display_name": "Python 3.7.15 ('dp')",
   "language": "python",
   "name": "python3"
  },
  "language_info": {
   "codemirror_mode": {
    "name": "ipython",
    "version": 3
   },
   "file_extension": ".py",
   "mimetype": "text/x-python",
   "name": "python",
   "nbconvert_exporter": "python",
   "pygments_lexer": "ipython3",
   "version": "3.7.15"
  },
  "orig_nbformat": 4,
  "vscode": {
   "interpreter": {
    "hash": "dcbce5a6faa775d11ac8553fbab57225c98434a4809b88522f2b6404195a366b"
   }
  }
 },
 "nbformat": 4,
 "nbformat_minor": 2
}
